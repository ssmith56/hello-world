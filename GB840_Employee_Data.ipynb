{
  "nbformat": 4,
  "nbformat_minor": 0,
  "metadata": {
    "colab": {
      "name": "GB840_Employee_Data.ipynb",
      "provenance": [],
      "authorship_tag": "ABX9TyPYRly16hmIdcr3+Sg3jbYg",
      "include_colab_link": true
    },
    "kernelspec": {
      "name": "python3",
      "display_name": "Python 3"
    },
    "language_info": {
      "name": "python"
    }
  },
  "cells": [
    {
      "cell_type": "markdown",
      "metadata": {
        "id": "view-in-github",
        "colab_type": "text"
      },
      "source": [
        "<a href=\"https://colab.research.google.com/github/ssmith56/hello-world/blob/main/GB840_Employee_Data.ipynb\" target=\"_parent\"><img src=\"https://colab.research.google.com/assets/colab-badge.svg\" alt=\"Open In Colab\"/></a>"
      ]
    },
    {
      "cell_type": "code",
      "metadata": {
        "id": "TL9HbhaO9-29"
      },
      "source": [
        "import pandas as pd\n",
        "import seaborn as sns\n",
        "sns.set(style=\"darkgrid\")"
      ],
      "execution_count": 3,
      "outputs": []
    },
    {
      "cell_type": "code",
      "metadata": {
        "id": "xGMzCRI8_NXr"
      },
      "source": [
        "url = 'http://bit.ly/hr_dataset'\n",
        "df_employees = pd.read_csv(url)"
      ],
      "execution_count": 4,
      "outputs": []
    },
    {
      "cell_type": "code",
      "metadata": {
        "colab": {
          "base_uri": "https://localhost:8080/"
        },
        "id": "iwhO9163_yMz",
        "outputId": "ef6d798e-516a-460e-dc85-066308d7b5fd"
      },
      "source": [
        "df_employees.shape"
      ],
      "execution_count": 5,
      "outputs": [
        {
          "output_type": "execute_result",
          "data": {
            "text/plain": [
              "(310, 19)"
            ]
          },
          "metadata": {
            "tags": []
          },
          "execution_count": 5
        }
      ]
    },
    {
      "cell_type": "code",
      "metadata": {
        "colab": {
          "base_uri": "https://localhost:8080/"
        },
        "id": "cNNMtG9Y_1nW",
        "outputId": "b6c3786a-4a47-401b-878c-d5cdfd3d611f"
      },
      "source": [
        "df_employees.info()"
      ],
      "execution_count": 11,
      "outputs": [
        {
          "output_type": "stream",
          "text": [
            "<class 'pandas.core.frame.DataFrame'>\n",
            "RangeIndex: 310 entries, 0 to 309\n",
            "Data columns (total 19 columns):\n",
            " #   Column               Non-Null Count  Dtype  \n",
            "---  ------               --------------  -----  \n",
            " 0   Employee Name        310 non-null    object \n",
            " 1   Employee Number      310 non-null    int64  \n",
            " 2   Age                  310 non-null    int64  \n",
            " 3   Pay Rate             310 non-null    float64\n",
            " 4   State                310 non-null    object \n",
            " 5   DOB                  310 non-null    object \n",
            " 6   Sex                  310 non-null    object \n",
            " 7   CitizenDesc          310 non-null    object \n",
            " 8   Hispanic/Latino      310 non-null    object \n",
            " 9   RaceDesc             310 non-null    object \n",
            " 10  Date of Hire         310 non-null    object \n",
            " 11  Date of Termination  103 non-null    object \n",
            " 12  Reason For Term      310 non-null    object \n",
            " 13  Employment Status    310 non-null    object \n",
            " 14  Department           310 non-null    object \n",
            " 15  Position             310 non-null    object \n",
            " 16  Manager Name         310 non-null    object \n",
            " 17  Employee Source      310 non-null    object \n",
            " 18  Performance Score    310 non-null    object \n",
            "dtypes: float64(1), int64(2), object(16)\n",
            "memory usage: 46.1+ KB\n"
          ],
          "name": "stdout"
        }
      ]
    },
    {
      "cell_type": "code",
      "metadata": {
        "colab": {
          "base_uri": "https://localhost:8080/",
          "height": 428
        },
        "id": "EcxBkRQN_4n0",
        "outputId": "b5613108-1803-4c5a-c435-37dbe7c957aa"
      },
      "source": [
        "df_employees.head()"
      ],
      "execution_count": 10,
      "outputs": [
        {
          "output_type": "execute_result",
          "data": {
            "text/html": [
              "<div>\n",
              "<style scoped>\n",
              "    .dataframe tbody tr th:only-of-type {\n",
              "        vertical-align: middle;\n",
              "    }\n",
              "\n",
              "    .dataframe tbody tr th {\n",
              "        vertical-align: top;\n",
              "    }\n",
              "\n",
              "    .dataframe thead th {\n",
              "        text-align: right;\n",
              "    }\n",
              "</style>\n",
              "<table border=\"1\" class=\"dataframe\">\n",
              "  <thead>\n",
              "    <tr style=\"text-align: right;\">\n",
              "      <th></th>\n",
              "      <th>Employee Name</th>\n",
              "      <th>Employee Number</th>\n",
              "      <th>Age</th>\n",
              "      <th>Pay Rate</th>\n",
              "      <th>State</th>\n",
              "      <th>DOB</th>\n",
              "      <th>Sex</th>\n",
              "      <th>CitizenDesc</th>\n",
              "      <th>Hispanic/Latino</th>\n",
              "      <th>RaceDesc</th>\n",
              "      <th>Date of Hire</th>\n",
              "      <th>Date of Termination</th>\n",
              "      <th>Reason For Term</th>\n",
              "      <th>Employment Status</th>\n",
              "      <th>Department</th>\n",
              "      <th>Position</th>\n",
              "      <th>Manager Name</th>\n",
              "      <th>Employee Source</th>\n",
              "      <th>Performance Score</th>\n",
              "    </tr>\n",
              "  </thead>\n",
              "  <tbody>\n",
              "    <tr>\n",
              "      <th>0</th>\n",
              "      <td>Brown, Mia</td>\n",
              "      <td>1103024456</td>\n",
              "      <td>30</td>\n",
              "      <td>28.50</td>\n",
              "      <td>MA</td>\n",
              "      <td>11/24/1987</td>\n",
              "      <td>Female</td>\n",
              "      <td>US Citizen</td>\n",
              "      <td>No</td>\n",
              "      <td>Black or African American</td>\n",
              "      <td>10/27/2008</td>\n",
              "      <td>NaN</td>\n",
              "      <td>N/A - still employed</td>\n",
              "      <td>Active</td>\n",
              "      <td>Admin Offices</td>\n",
              "      <td>Accountant I</td>\n",
              "      <td>Brandon R. LeBlanc</td>\n",
              "      <td>Diversity Job Fair</td>\n",
              "      <td>Fully Meets</td>\n",
              "    </tr>\n",
              "    <tr>\n",
              "      <th>1</th>\n",
              "      <td>LaRotonda, William</td>\n",
              "      <td>1106026572</td>\n",
              "      <td>34</td>\n",
              "      <td>23.00</td>\n",
              "      <td>MA</td>\n",
              "      <td>4/26/1984</td>\n",
              "      <td>Male</td>\n",
              "      <td>US Citizen</td>\n",
              "      <td>No</td>\n",
              "      <td>Black or African American</td>\n",
              "      <td>1/6/2014</td>\n",
              "      <td>NaN</td>\n",
              "      <td>N/A - still employed</td>\n",
              "      <td>Active</td>\n",
              "      <td>Admin Offices</td>\n",
              "      <td>Accountant I</td>\n",
              "      <td>Brandon R. LeBlanc</td>\n",
              "      <td>Website Banner Ads</td>\n",
              "      <td>Fully Meets</td>\n",
              "    </tr>\n",
              "    <tr>\n",
              "      <th>2</th>\n",
              "      <td>Steans, Tyrone</td>\n",
              "      <td>1302053333</td>\n",
              "      <td>31</td>\n",
              "      <td>29.00</td>\n",
              "      <td>MA</td>\n",
              "      <td>9/1/1986</td>\n",
              "      <td>Male</td>\n",
              "      <td>US Citizen</td>\n",
              "      <td>No</td>\n",
              "      <td>White</td>\n",
              "      <td>9/29/2014</td>\n",
              "      <td>NaN</td>\n",
              "      <td>N/A - still employed</td>\n",
              "      <td>Active</td>\n",
              "      <td>Admin Offices</td>\n",
              "      <td>Accountant I</td>\n",
              "      <td>Brandon R. LeBlanc</td>\n",
              "      <td>Internet Search</td>\n",
              "      <td>Fully Meets</td>\n",
              "    </tr>\n",
              "    <tr>\n",
              "      <th>3</th>\n",
              "      <td>Howard, Estelle</td>\n",
              "      <td>1211050782</td>\n",
              "      <td>32</td>\n",
              "      <td>21.50</td>\n",
              "      <td>MA</td>\n",
              "      <td>9/16/1985</td>\n",
              "      <td>Female</td>\n",
              "      <td>US Citizen</td>\n",
              "      <td>No</td>\n",
              "      <td>White</td>\n",
              "      <td>2/16/2015</td>\n",
              "      <td>4/15/2015</td>\n",
              "      <td>N/A - still employed</td>\n",
              "      <td>Active</td>\n",
              "      <td>Admin Offices</td>\n",
              "      <td>Administrative Assistant</td>\n",
              "      <td>Brandon R. LeBlanc</td>\n",
              "      <td>Pay Per Click - Google</td>\n",
              "      <td>N/A- too early to review</td>\n",
              "    </tr>\n",
              "    <tr>\n",
              "      <th>4</th>\n",
              "      <td>Singh, Nan</td>\n",
              "      <td>1307059817</td>\n",
              "      <td>30</td>\n",
              "      <td>16.56</td>\n",
              "      <td>MA</td>\n",
              "      <td>5/19/1988</td>\n",
              "      <td>Female</td>\n",
              "      <td>US Citizen</td>\n",
              "      <td>No</td>\n",
              "      <td>White</td>\n",
              "      <td>5/1/2015</td>\n",
              "      <td>NaN</td>\n",
              "      <td>N/A - still employed</td>\n",
              "      <td>Active</td>\n",
              "      <td>Admin Offices</td>\n",
              "      <td>Administrative Assistant</td>\n",
              "      <td>Brandon R. LeBlanc</td>\n",
              "      <td>Website Banner Ads</td>\n",
              "      <td>N/A- too early to review</td>\n",
              "    </tr>\n",
              "  </tbody>\n",
              "</table>\n",
              "</div>"
            ],
            "text/plain": [
              "          Employee Name  ...         Performance Score\n",
              "0            Brown, Mia  ...               Fully Meets\n",
              "1  LaRotonda, William    ...               Fully Meets\n",
              "2      Steans, Tyrone    ...               Fully Meets\n",
              "3       Howard, Estelle  ...  N/A- too early to review\n",
              "4           Singh, Nan   ...  N/A- too early to review\n",
              "\n",
              "[5 rows x 19 columns]"
            ]
          },
          "metadata": {
            "tags": []
          },
          "execution_count": 10
        }
      ]
    },
    {
      "cell_type": "code",
      "metadata": {
        "colab": {
          "base_uri": "https://localhost:8080/",
          "height": 297
        },
        "id": "_Rm--kFN_8O8",
        "outputId": "66bcf554-a5cb-493d-c3b6-f84e010c6c5b"
      },
      "source": [
        "df_employees.describe()"
      ],
      "execution_count": 9,
      "outputs": [
        {
          "output_type": "execute_result",
          "data": {
            "text/html": [
              "<div>\n",
              "<style scoped>\n",
              "    .dataframe tbody tr th:only-of-type {\n",
              "        vertical-align: middle;\n",
              "    }\n",
              "\n",
              "    .dataframe tbody tr th {\n",
              "        vertical-align: top;\n",
              "    }\n",
              "\n",
              "    .dataframe thead th {\n",
              "        text-align: right;\n",
              "    }\n",
              "</style>\n",
              "<table border=\"1\" class=\"dataframe\">\n",
              "  <thead>\n",
              "    <tr style=\"text-align: right;\">\n",
              "      <th></th>\n",
              "      <th>Employee Number</th>\n",
              "      <th>Age</th>\n",
              "      <th>Pay Rate</th>\n",
              "    </tr>\n",
              "  </thead>\n",
              "  <tbody>\n",
              "    <tr>\n",
              "      <th>count</th>\n",
              "      <td>3.100000e+02</td>\n",
              "      <td>310.000000</td>\n",
              "      <td>310.000000</td>\n",
              "    </tr>\n",
              "    <tr>\n",
              "      <th>mean</th>\n",
              "      <td>1.199745e+09</td>\n",
              "      <td>38.867742</td>\n",
              "      <td>31.284806</td>\n",
              "    </tr>\n",
              "    <tr>\n",
              "      <th>std</th>\n",
              "      <td>1.829600e+08</td>\n",
              "      <td>8.922459</td>\n",
              "      <td>15.383615</td>\n",
              "    </tr>\n",
              "    <tr>\n",
              "      <th>min</th>\n",
              "      <td>6.020003e+08</td>\n",
              "      <td>25.000000</td>\n",
              "      <td>14.000000</td>\n",
              "    </tr>\n",
              "    <tr>\n",
              "      <th>25%</th>\n",
              "      <td>1.101024e+09</td>\n",
              "      <td>32.000000</td>\n",
              "      <td>20.000000</td>\n",
              "    </tr>\n",
              "    <tr>\n",
              "      <th>50%</th>\n",
              "      <td>1.203032e+09</td>\n",
              "      <td>37.000000</td>\n",
              "      <td>24.000000</td>\n",
              "    </tr>\n",
              "    <tr>\n",
              "      <th>75%</th>\n",
              "      <td>1.378814e+09</td>\n",
              "      <td>44.000000</td>\n",
              "      <td>45.315000</td>\n",
              "    </tr>\n",
              "    <tr>\n",
              "      <th>max</th>\n",
              "      <td>1.988300e+09</td>\n",
              "      <td>67.000000</td>\n",
              "      <td>80.000000</td>\n",
              "    </tr>\n",
              "  </tbody>\n",
              "</table>\n",
              "</div>"
            ],
            "text/plain": [
              "       Employee Number         Age    Pay Rate\n",
              "count     3.100000e+02  310.000000  310.000000\n",
              "mean      1.199745e+09   38.867742   31.284806\n",
              "std       1.829600e+08    8.922459   15.383615\n",
              "min       6.020003e+08   25.000000   14.000000\n",
              "25%       1.101024e+09   32.000000   20.000000\n",
              "50%       1.203032e+09   37.000000   24.000000\n",
              "75%       1.378814e+09   44.000000   45.315000\n",
              "max       1.988300e+09   67.000000   80.000000"
            ]
          },
          "metadata": {
            "tags": []
          },
          "execution_count": 9
        }
      ]
    },
    {
      "cell_type": "code",
      "metadata": {
        "colab": {
          "base_uri": "https://localhost:8080/",
          "height": 382
        },
        "id": "mlfBxUz4AG8n",
        "outputId": "3e503856-3806-403f-fba7-0412f95b1ea7"
      },
      "source": [
        "sns.displot(df_employees,x=\"Pay Rate\", kind=\"kde\", fill=True)"
      ],
      "execution_count": 12,
      "outputs": [
        {
          "output_type": "execute_result",
          "data": {
            "text/plain": [
              "<seaborn.axisgrid.FacetGrid at 0x7ff691e044d0>"
            ]
          },
          "metadata": {
            "tags": []
          },
          "execution_count": 12
        },
        {
          "output_type": "display_data",
          "data": {
            "image/png": "[encoded data removed]",
            "text/plain": [
              "<Figure size 360x360 with 1 Axes>"
            ]
          },
          "metadata": {
            "tags": []
          }
        }
      ]
    },
    {
      "cell_type": "code",
      "metadata": {
        "colab": {
          "base_uri": "https://localhost:8080/",
          "height": 382
        },
        "id": "O2nSIZPwAH3C",
        "outputId": "22edfe92-fd7a-4e54-c535-0ab530e63d03"
      },
      "source": [
        "sns.displot(df_employees, x=\"Pay Rate\", hue=\"Sex\", kind=\"kde\", fill=True)"
      ],
      "execution_count": 13,
      "outputs": [
        {
          "output_type": "execute_result",
          "data": {
            "text/plain": [
              "<seaborn.axisgrid.FacetGrid at 0x7ff686a7db90>"
            ]
          },
          "metadata": {
            "tags": []
          },
          "execution_count": 13
        },
        {
          "output_type": "display_data",
          "data": {
            "image/png": "[encoded data removed]",
            "text/plain": [
              "<Figure size 439.725x360 with 1 Axes>"
            ]
          },
          "metadata": {
            "tags": []
          }
        }
      ]
    },
    {
      "cell_type": "code",
      "metadata": {
        "id": "dBtsFmsKAHlU"
      },
      "source": [
        ""
      ],
      "execution_count": null,
      "outputs": []
    }
  ]
}